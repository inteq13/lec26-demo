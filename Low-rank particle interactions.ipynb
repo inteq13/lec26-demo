{
 "metadata": {
  "name": "Low-rank particle interactions"
 },
 "nbformat": 3,
 "nbformat_minor": 0,
 "worksheets": [
  {
   "cells": [
    {
     "cell_type": "code",
     "collapsed": false,
     "input": [
      "%pylab inline"
     ],
     "language": "python",
     "metadata": {},
     "outputs": []
    },
    {
     "cell_type": "code",
     "collapsed": false,
     "input": [
      "nsources = 30\n",
      "ntargets = 30"
     ],
     "language": "python",
     "metadata": {},
     "outputs": []
    },
    {
     "cell_type": "code",
     "collapsed": false,
     "input": [
      "sources = random.randn(nsources, 2)\n",
      "weights = random.randn(nsources)\n",
      "targets = [0,0] + random.randn(ntargets, 2)"
     ],
     "language": "python",
     "metadata": {},
     "outputs": []
    },
    {
     "cell_type": "code",
     "collapsed": false,
     "input": [
      "gca().set_aspect(\"equal\")\n",
      "plot(sources[:, 0], sources[:, 1], \"x\")\n",
      "plot(targets[:, 0], targets[:, 1], \"x\")"
     ],
     "language": "python",
     "metadata": {},
     "outputs": []
    },
    {
     "cell_type": "code",
     "collapsed": false,
     "input": [
      "dist = np.sqrt(np.sum((sources[np.newaxis,:,:]-targets[:, np.newaxis, :])**2, axis=-1))"
     ],
     "language": "python",
     "metadata": {},
     "outputs": []
    },
    {
     "cell_type": "code",
     "collapsed": false,
     "input": [
      "imshow(log(dist), interpolation=\"nearest\")\n",
      "colorbar()"
     ],
     "language": "python",
     "metadata": {},
     "outputs": []
    },
    {
     "cell_type": "code",
     "collapsed": false,
     "input": [
      "u, sigma, vt = svd(log(dist))\n",
      "len(np.where(sigma > 1e-7)[0])"
     ],
     "language": "python",
     "metadata": {},
     "outputs": []
    },
    {
     "cell_type": "markdown",
     "metadata": {},
     "source": [
      "# As a function of distance"
     ]
    },
    {
     "cell_type": "code",
     "collapsed": false,
     "input": [
      "def get_rank(offset):\n",
      "    targets = [offset, 0] + random.randn(ntargets, 2)\n",
      "    dist = np.sqrt(np.sum((sources[np.newaxis,:,:]-targets[:, np.newaxis, :])**2, axis=-1))\n",
      "    u, sigma, vt = svd(log(dist))\n",
      "    return len(np.where(sigma > 1e-7)[0])\n",
      "\n",
      "offsets = linspace(0, 30, 100)\n",
      "ranks = [get_rank(o) for o in offsets]\n",
      "\n",
      "plot(offsets, ranks)"
     ],
     "language": "python",
     "metadata": {},
     "outputs": []
    },
    {
     "cell_type": "code",
     "collapsed": false,
     "input": [],
     "language": "python",
     "metadata": {},
     "outputs": []
    }
   ],
   "metadata": {}
  }
 ]
}